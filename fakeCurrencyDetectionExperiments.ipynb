{
 "cells": [
  {
   "cell_type": "code",
   "execution_count": null,
   "metadata": {
    "collapsed": false,
    "scrolled": true
   },
   "outputs": [],
   "source": [
    "import network3\n",
    "from network3 import Network\n",
    "from network3 import ConvPoolLayer, FullyConnectedLayer, SoftmaxLayer\n",
    "training_data, validation_data, test_data = network3.load_data_shared('../data/fakeCurrencyDetectionData.pkl.gz')\n",
    "mini_batch_size = 10"
   ]
  },
  {
   "cell_type": "code",
   "execution_count": null,
   "metadata": {
    "collapsed": false
   },
   "outputs": [],
   "source": [
    "# from network3 import ReLU\n",
    "# net = Network([\n",
    "#     ConvPoolLayer(image_shape=(mini_batch_size, 1, 300, 600), \n",
    "#                   filter_shape=(20, 1, 50, 100), \n",
    "#                   poolsize=(2, 2),\n",
    "#                  stride = (10,20), activation_fn = ReLU),\n",
    "#     FullyConnectedLayer(n_in=20*13*13, n_out=100, activation_fn =  ReLU),\n",
    "#     SoftmaxLayer(n_in=100, n_out=2)], mini_batch_size)\n",
    "\n",
    "# net.SGD(training_data, 20, mini_batch_size, 0.001, validation_data, test_data) \n",
    "\n",
    "\"\"\"\n",
    "OK. So, before you are back at shooting in the dark, I have some good ideas for you.\n",
    "If you follow these, apart from the results ( which are uncertain, of course), you \n",
    "will have a nice story to write. Nice, not quite, but the plot was organized at least.\n",
    "\n",
    "So what I want you do now is follow the standard approach. Apply the standard \n",
    "architectures with images of 'standard' sizes.\n",
    " * Complete the tensorflow MNIST tutorial. Just do it, no questions.\n",
    " * Start with AlexNet. Read the paper( the relevant part ), understand it AND! don't \n",
    "   start writing from scratch. See if you can get it implemented somewhere already.\n",
    "   If yes, awesome! Just input the images. \n",
    "   If no, no problem! Just match the number of layers and number of parameters in each\n",
    "   in your network definition code snippet and you are set. You have your AlexNet there.\n",
    " * Move on to the next architecture that was tried in Choronological order and do the \n",
    "   same.\n",
    "\n",
    "\"\"\""
   ]
  },
  {
   "cell_type": "code",
   "execution_count": null,
   "metadata": {
    "collapsed": false,
    "scrolled": true
   },
   "outputs": [],
   "source": [
    "# from network3 import ReLU\n",
    "# net = Network([\n",
    "#     ConvPoolLayer(image_shape=(mini_batch_size, 1, 300, 600), \n",
    "#                   filter_shape=(20, 1, 33, 66), \n",
    "#                   poolsize=(3, 3),\n",
    "#                  stride = (3,6), activation_fn = ReLU),\n",
    "#     ConvPoolLayer(image_shape=(mini_batch_size, 20, 30, 30), \n",
    "#                   filter_shape=(40, 20, 5, 5), \n",
    "#                   poolsize=(2, 2),\n",
    "#                  activation_fn = ReLU),\n",
    "#     FullyConnectedLayer(n_in=40*13*13, n_out=1000, activation_fn =  ReLU),\n",
    "#     FullyConnectedLayer(n_in=1000, n_out=100, activation_fn =  ReLU),\n",
    "#     SoftmaxLayer(n_in=100, n_out=2)], mini_batch_size)\n",
    "\n",
    "# net.SGD(training_data, 1, mini_batch_size, 0.01, validation_data, test_data)  "
   ]
  }
 ],
 "metadata": {
  "kernelspec": {
   "display_name": "Python 2",
   "language": "python",
   "name": "python2"
  },
  "language_info": {
   "codemirror_mode": {
    "name": "ipython",
    "version": 2
   },
   "file_extension": ".py",
   "mimetype": "text/x-python",
   "name": "python",
   "nbconvert_exporter": "python",
   "pygments_lexer": "ipython2",
   "version": "2.7.12"
  }
 },
 "nbformat": 4,
 "nbformat_minor": 1
}
