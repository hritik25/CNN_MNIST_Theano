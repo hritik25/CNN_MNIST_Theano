{
 "cells": [
  {
   "cell_type": "markdown",
   "metadata": {},
   "source": [
    "## Here, I am running the CNNs constructed by Michael Nelson in his tutorial (<a href = 'http://neuralnetworksanddeeplearning.com/chap6.html#introducing_convolutional_networks'>see here</a>), to tally the results quoted in his tutorial and check the training time on my <i>NVIDIA GeForce GT 645M</i>.\n",
    "<h2><font color='red'>Come back and add timer before uploading on Github!</font></h2>"
   ]
  },
  {
   "cell_type": "code",
   "execution_count": null,
   "metadata": {
    "collapsed": false
   },
   "outputs": [],
   "source": [
    "from network3 import *"
   ]
  },
  {
   "cell_type": "code",
   "execution_count": null,
   "metadata": {
    "collapsed": false,
    "scrolled": true
   },
   "outputs": [],
   "source": [
    "# with EXPANDED DATASET and TWO fully connected layers, configaration which \n",
    "# produced best score( without using ensemble ) in Michael Nelson's tuturial.\n",
    "mini_batch_size = 10\n",
    "expanded_training_data, validation_data, test_data = load_data_shared(\n",
    "        \"../data/mnist_expanded.pkl.gz\")\n",
    "net = Network([\n",
    "        ConvPoolLayer(image_shape=(mini_batch_size, 1, 28, 28), \n",
    "                      filter_shape=(20, 1, 5, 5), \n",
    "                      poolsize=(2, 2), \n",
    "                      activation_fn=ReLU),\n",
    "        ConvPoolLayer(image_shape=(mini_batch_size, 20, 12, 12), \n",
    "                      filter_shape=(40, 20, 5, 5), \n",
    "                      poolsize=(2, 2), \n",
    "                      activation_fn=ReLU),\n",
    "        FullyConnectedLayer(\n",
    "            n_in=40*4*4, n_out=1000, activation_fn=ReLU, p_dropout=0.5),\n",
    "        FullyConnectedLayer(\n",
    "            n_in=1000, n_out=1000, activation_fn=ReLU, p_dropout=0.5),\n",
    "        SoftmaxLayer(n_in=1000, n_out=10, p_dropout=0.5)], \n",
    "        mini_batch_size)\n",
    "\n",
    "net.SGD(expanded_training_data, 40, mini_batch_size, 0.03, \n",
    "            validation_data, test_data)"
   ]
  },
  {
   "cell_type": "code",
   "execution_count": null,
   "metadata": {
    "collapsed": false
   },
   "outputs": [],
   "source": [
    "# with EXPANDED DATASET and ONE fully-connected layer\n",
    "mini_batch_size = 10\n",
    "training_data, validation_data, test_data = load_data_shared()\n",
    "net = Network([\n",
    "        ConvPoolLayer(image_shape=(mini_batch_size, 1, 28, 28), \n",
    "                      filter_shape=(20, 1, 5, 5), \n",
    "                      poolsize=(2, 2), \n",
    "                      activation_fn=ReLU),\n",
    "        ConvPoolLayer(image_shape=(mini_batch_size, 20, 12, 12), \n",
    "                      filter_shape=(40, 20, 5, 5), \n",
    "                      poolsize=(2, 2), \n",
    "                      activation_fn=ReLU),\n",
    "        FullyConnectedLayer(\n",
    "            n_in=40*4*4, n_out=100, activation_fn=ReLU, p_dropout=0.5),\n",
    "        SoftmaxLayer(n_in=100, n_out=10, p_dropout=0.5)], \n",
    "        mini_batch_size)\n",
    "\n",
    "net.SGD(training_data, 60, mini_batch_size, 0.03, \n",
    "            validation_data, test_data, lmbda = 0.1)"
   ]
  }
 ],
 "metadata": {
  "kernelspec": {
   "display_name": "Python 2",
   "language": "python",
   "name": "python2"
  },
  "language_info": {
   "codemirror_mode": {
    "name": "ipython",
    "version": 2
   },
   "file_extension": ".py",
   "mimetype": "text/x-python",
   "name": "python",
   "nbconvert_exporter": "python",
   "pygments_lexer": "ipython2",
   "version": "2.7.12"
  }
 },
 "nbformat": 4,
 "nbformat_minor": 1
}
